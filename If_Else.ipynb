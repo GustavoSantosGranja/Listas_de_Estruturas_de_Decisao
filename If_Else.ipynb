{
  "nbformat": 4,
  "nbformat_minor": 0,
  "metadata": {
    "colab": {
      "provenance": []
    },
    "kernelspec": {
      "name": "python3",
      "display_name": "Python 3"
    },
    "language_info": {
      "name": "python"
    }
  },
  "cells": [
    {
      "cell_type": "code",
      "execution_count": null,
      "metadata": {
        "colab": {
          "base_uri": "https://localhost:8080/"
        },
        "id": "ZiKxQu8epnys",
        "outputId": "fc103307-aa1c-4426-c8f9-e0354c792929"
      },
      "outputs": [
        {
          "output_type": "stream",
          "name": "stdout",
          "text": [
            "Digite um numero: 2\n",
            "Digite outro numero: 4\n",
            "Valor menor que 15\n"
          ]
        }
      ],
      "source": [
        "#1\n",
        "\n",
        "\n",
        "\n",
        "X1= int(input(\"Digite um numero: \"))\n",
        "X2= int(input(\"Digite outro numero: \"))\n",
        "soma=X1+X2\n",
        "\n",
        "if (soma >15):\n",
        " print(\"Valor Maior que 15 \")\n",
        "else:\n",
        "  print(\"Valor menor que 15\")\n"
      ]
    },
    {
      "cell_type": "code",
      "source": [
        "#2\n",
        "\n",
        "Número= float(input(\"Digite o Número: \"))\n",
        "\n",
        "if(Número> 0):\n",
        "   print(\"Positivo\")\n",
        "elif(Número <0 ):\n",
        "    print(\"Negativo\")\n",
        "else:\n",
        "  print(\"Neutro\")"
      ],
      "metadata": {
        "colab": {
          "base_uri": "https://localhost:8080/"
        },
        "id": "WfK98qSH_jao",
        "outputId": "e56d5b37-e10c-4675-946f-8dbd7a313edc"
      },
      "execution_count": null,
      "outputs": [
        {
          "output_type": "stream",
          "name": "stdout",
          "text": [
            "Digite o Número: -4\n",
            "Negativo\n"
          ]
        }
      ]
    },
    {
      "cell_type": "code",
      "source": [
        "#3\n",
        "\n",
        "idade= float(input(\"Digite sua idad: \"))\n",
        "if (idade >=18):\n",
        "  print(\"Maior de idade\")\n",
        "\n",
        "else :\n",
        "   print(\"Menor de idade\")\n"
      ],
      "metadata": {
        "colab": {
          "base_uri": "https://localhost:8080/"
        },
        "id": "zwHEGSlUvVV2",
        "outputId": "46782a9f-c57f-48ef-dc5f-e2f25bf7eab6"
      },
      "execution_count": null,
      "outputs": [
        {
          "output_type": "stream",
          "name": "stdout",
          "text": [
            "Digite sua idade30\n",
            "Maior de idade\n"
          ]
        }
      ]
    },
    {
      "cell_type": "code",
      "source": [
        "#4\n",
        "\n",
        "temperatura= float(input(\"Qual a temperatura jovem: \"))\n",
        "\n",
        "if(temperatura> 25):\n",
        "   print(\"Quente\")\n",
        "elif(temperatura == 25 ):\n",
        "    print(\"Agradável\")\n",
        "else:\n",
        "  print(\"Frio\")"
      ],
      "metadata": {
        "colab": {
          "base_uri": "https://localhost:8080/"
        },
        "id": "bnP0wMI3zLFQ",
        "outputId": "bd21bedf-1237-44d9-805a-b3bc1fe022d5"
      },
      "execution_count": null,
      "outputs": [
        {
          "output_type": "stream",
          "name": "stdout",
          "text": [
            "Qual a temperatura jovem10\n",
            "Frio\n"
          ]
        }
      ]
    },
    {
      "cell_type": "code",
      "source": [
        "#5\n",
        "N1 = float(input(\"Digite um numero: \"))\n",
        "N2 = float(input(\"Digite outro: \"))\n",
        "\n",
        "if(N1==N2):\n",
        "  print(\"Iguais\")\n",
        "else:\n",
        "  print(\"diferentes\")\n",
        "\n"
      ],
      "metadata": {
        "colab": {
          "base_uri": "https://localhost:8080/"
        },
        "id": "zTJL-twSAVKx",
        "outputId": "b7e94ee1-5e8d-4b1b-908e-5ce736fa7dcd"
      },
      "execution_count": null,
      "outputs": [
        {
          "output_type": "stream",
          "name": "stdout",
          "text": [
            "Digite um numero: 10\n",
            "Digite outro: 15\n",
            "diferentes\n"
          ]
        }
      ]
    },
    {
      "cell_type": "code",
      "source": [
        "#6\n",
        "\n",
        "senha= float(input(\"Digite sua Senha: \"))\n",
        "\n",
        "\n",
        "if (senha==1234):\n",
        "  print(\"Acesso Permitido\")\n",
        "else:\n",
        "    print(\"Acesso Negado\")\n",
        "\n",
        "\n",
        "\n"
      ],
      "metadata": {
        "colab": {
          "base_uri": "https://localhost:8080/"
        },
        "id": "cnf8fji2520j",
        "outputId": "39386861-e628-4ee9-f9ba-229b8c5cb86c"
      },
      "execution_count": null,
      "outputs": [
        {
          "output_type": "stream",
          "name": "stdout",
          "text": [
            "Digite sua Senha555\n",
            "Acesso Negado\n"
          ]
        }
      ]
    },
    {
      "cell_type": "code",
      "source": [
        "#7\n",
        "nota1= float(input(\"Digite a primeira nota:\"))\n",
        "nota2= float(input(\"Digite a segunta nota: \"))\n",
        "media= (nota1+nota2)/2\n",
        "\n",
        "if  (media >=7):\n",
        "  print(\"Aluno Aprovado\")\n",
        "else:\n",
        "    print(\"Aluno reprovado\")\n",
        "\n"
      ],
      "metadata": {
        "colab": {
          "base_uri": "https://localhost:8080/"
        },
        "id": "eMMUIQotBpRc",
        "outputId": "1139f93c-9e42-499b-f42f-735d1492bad6"
      },
      "execution_count": null,
      "outputs": [
        {
          "output_type": "stream",
          "name": "stdout",
          "text": [
            "Digite a primeira nota:2\n",
            "Digite a segunta nota: 4\n",
            "Aluno reprovado\n"
          ]
        }
      ]
    },
    {
      "cell_type": "code",
      "source": [
        "#8\n",
        "time1= float(input(\"Gols: \"))\n",
        "time2= float(input(\"Gols: \"))\n",
        "\n",
        "if (time1 > time2):\n",
        "  print(\"Vitoria do time 1\")\n",
        "\n",
        "elif (time1 < time2):\n",
        "  print(\"Vitoria do time 2\")\n",
        "else:\n",
        "    print(\"Empate\")\n",
        "\n"
      ],
      "metadata": {
        "colab": {
          "base_uri": "https://localhost:8080/"
        },
        "id": "yJc_iwVwERve",
        "outputId": "65c355e2-2d97-4963-b7b6-4917c1906e8d"
      },
      "execution_count": null,
      "outputs": [
        {
          "output_type": "stream",
          "name": "stdout",
          "text": [
            "Gols: 2\n",
            "Gols: 2\n",
            "Empate\n"
          ]
        }
      ]
    },
    {
      "cell_type": "code",
      "source": [
        "#9\n",
        "\n",
        "\n",
        "turno= str(input(\"Seu turno: \")).upper()\n",
        "\n",
        "if 'M'in turno:\n",
        "  print(\"Bom Dia!\")\n",
        "elif 'V' in turno:\n",
        "  print(\"Boa Tarde!\")\n",
        "elif 'N' in turno:\n",
        " print(\"Boa Noite!\")\n",
        "else:\n",
        "  print(\"Valor Invalido\")"
      ],
      "metadata": {
        "colab": {
          "base_uri": "https://localhost:8080/"
        },
        "id": "JeqY9Z2JLM_8",
        "outputId": "84cf4716-1f0b-464a-f552-45fa1705cde9"
      },
      "execution_count": null,
      "outputs": [
        {
          "output_type": "stream",
          "name": "stdout",
          "text": [
            "Seu turno: g\n",
            "Valor Invalido\n"
          ]
        }
      ]
    },
    {
      "cell_type": "code",
      "source": [
        "#9\n",
        "\n",
        "\n",
        "turno= str(input(\"Digitar M-matutino ou V-Vespertino ou N- Noturno: \")).upper()\n",
        "\n",
        "if (turno=='M'):\n",
        " print(\"Bom Dia!\")\n",
        "elif (turno=='V'):\n",
        "    print(\"Boa Tarde\")\n",
        "\n",
        "elif (turno=='N'):\n",
        "  print(\"Boa Noite\")\n",
        "else:\n",
        "    print(\"Valor Invalido\")\n"
      ],
      "metadata": {
        "colab": {
          "base_uri": "https://localhost:8080/"
        },
        "id": "y5EvDhMlSowT",
        "outputId": "eaf3ac18-a5f5-4ec5-bc4a-4954ad046bc6"
      },
      "execution_count": null,
      "outputs": [
        {
          "output_type": "stream",
          "name": "stdout",
          "text": [
            "Digitar M-matutino ou V-Vespertino ou N- Noturno: v\n",
            "Boa Tarde\n"
          ]
        }
      ]
    },
    {
      "cell_type": "code",
      "source": [
        "#10\n",
        "\n",
        "\n",
        "idade= float(input(\"Digite a sua Idade: \"))\n",
        "\n",
        "if (idade  <=11):\n",
        "  print(\"Criança\")\n",
        "elif (idade >=12 and idade <=18):\n",
        "  print(\"Adolescente\")\n",
        "elif (idade >=19 and idade <=24):\n",
        "  print(\"Jovem\")\n",
        "elif (idade >=25 and idade <=40):\n",
        "  print(\"Adulto\")\n",
        "elif (idade >=41 and idade <=60):\n",
        "  print(\"Meia Idade\")\n",
        "elif (idade >60):\n",
        "  print(\"Idoso\")"
      ],
      "metadata": {
        "colab": {
          "base_uri": "https://localhost:8080/"
        },
        "id": "Xj0rsmEbUMUH",
        "outputId": "e4d6ab4a-76e4-4481-f41f-1f1caf4342f5"
      },
      "execution_count": null,
      "outputs": [
        {
          "output_type": "stream",
          "name": "stdout",
          "text": [
            "Digite a sua Idade: 61\n",
            "Idoso\n"
          ]
        }
      ]
    },
    {
      "cell_type": "code",
      "source": [
        "#10 B\n",
        "idade= float(input(\"Digite a sua Idade: \"))\n",
        "\n",
        "if (idade  <=11):\n",
        "  print(\"Criança\")\n",
        "elif (idade <=18):\n",
        "  print(\"Adolescente\")\n",
        "elif (idade <=24):\n",
        "  print(\"Jovem\")\n",
        "elif (idade <=40):\n",
        "  print(\"Adulto\")\n",
        "elif ( idade <=60):\n",
        "  print(\"Meia Idade\")\n",
        "elif (idade >60):\n",
        "  print(\"Idoso\")"
      ],
      "metadata": {
        "colab": {
          "base_uri": "https://localhost:8080/"
        },
        "id": "FRaLhJCtXhpb",
        "outputId": "0ad05ee8-7595-4693-ffdc-d0b4562fb4b9"
      },
      "execution_count": null,
      "outputs": [
        {
          "output_type": "stream",
          "name": "stdout",
          "text": [
            "Digite a sua Idade: 17\n",
            "Adolescente\n"
          ]
        }
      ]
    },
    {
      "cell_type": "code",
      "source": [
        "#12\n",
        "dia= float(input(\"Digite um numero: \"))\n",
        "\n",
        "if dia == 1:\n",
        "  print(\"Domingo\")\n",
        "elif dia == 2:\n",
        "  print(\"Segunda\")\n",
        "elif dia == 3:\n",
        "  print(\"Terça\")\n",
        "elif dia == 4:\n",
        "  print(\"Quarta\")\n",
        "elif dia == 5:\n",
        "  print(\"Quinta\")\n",
        "elif dia == 6:\n",
        "  print(\"Sextou BB\")\n",
        "elif dia == 7:\n",
        "  print(\"Sabado\")\n",
        "else:\n",
        " print(\"Valor invalido\")"
      ],
      "metadata": {
        "id": "ZG4fFi_feIYl",
        "colab": {
          "base_uri": "https://localhost:8080/"
        },
        "outputId": "49066fc2-4eeb-4320-aab5-98431a82ab81"
      },
      "execution_count": null,
      "outputs": [
        {
          "output_type": "stream",
          "name": "stdout",
          "text": [
            "Digite um numero: 4\n",
            "Quarta\n"
          ]
        }
      ]
    },
    {
      "cell_type": "code",
      "source": [
        "\n",
        "#13\n",
        "\n",
        "pergunta1= str( input(\" Celsius ou Fahrenheit?: \").lower())\n",
        "if (pergunta1 ==\"c\"):\n",
        "  c= float (input(\"Digite a temperatura: \"))\n",
        "  f=(c*1.8)+32\n",
        "  print(\"Celsius para Fahrenheit é\",f)\n",
        "elif(pergunta1==\"f\"):\n",
        "  f= float(input(\"Digite a temperatura: \"))\n",
        "  c=(f-32)*5/9\n",
        "  print(\"Fahrenheit para Celsius,\",c)\n",
        "\n",
        "\n",
        "\n",
        "\n",
        "\n",
        "\n",
        "\n",
        "\n"
      ],
      "metadata": {
        "colab": {
          "base_uri": "https://localhost:8080/"
        },
        "id": "1akOXb_iDBxR",
        "outputId": "cbab3b5b-8994-485c-df15-b79d6c9e1e34"
      },
      "execution_count": null,
      "outputs": [
        {
          "output_type": "stream",
          "name": "stdout",
          "text": [
            " Celsius ou Fahrenheit?: c\n",
            "Digite a temperatura: 0\n",
            "Celsius para Fahrenheit é 32.0\n"
          ]
        }
      ]
    },
    {
      "cell_type": "code",
      "source": [
        "#14\n",
        "idade = float(input(\"Digite sua idade: \"))\n",
        "\n",
        "if idade < 16:\n",
        "    print(\"Proibido\",\"Proibido\" )\n",
        "elif idade ==16 <18:\n",
        "    print(\"Optativo:\", \"Optativo\")\n",
        "elif idade ==18 < 65:\n",
        "    print(\"Obrigado a Votar:\", \"Obrigado\")"
      ],
      "metadata": {
        "colab": {
          "base_uri": "https://localhost:8080/"
        },
        "id": "PIdcleDh-OZ9",
        "outputId": "dadc00eb-f810-4fb9-8d95-efc5a109bc83"
      },
      "execution_count": null,
      "outputs": [
        {
          "output_type": "stream",
          "name": "stdout",
          "text": [
            "Digite sua idade: 15\n",
            "Proibido Proibido\n"
          ]
        }
      ]
    },
    {
      "cell_type": "code",
      "source": [
        "#15/16\n",
        "print(\"Responda as seguintes perguntas com sim ou não\")\n",
        "pergunta1= input(\"Telefonou para a vitima?\").lower()\n",
        "pergunta2= input(\"Esteve no local do crime?\").lower()\n",
        "pergunta3= input(\"Mora perto da vitima?\").lower()\n",
        "pergunta4= input(\"Devia para a vitima?\").lower()\n",
        "pergunta5= input(\"Ja trabalhou com a vitima?\").lower()\n",
        "\n",
        "positivas = 0\n",
        "\n",
        "if pergunta1 == \"sim\":\n",
        "  positivas += 1\n",
        "if pergunta2 == \"sim\":\n",
        "  positivas += 1\n",
        "if pergunta3 == \"sim\":\n",
        "  positivas += 1\n",
        "if pergunta4 == \"sim\":\n",
        "  positivas += 2\n",
        "if pergunta5 == \"sim\":\n",
        "  positivas += 1\n",
        "\n",
        "if positivas == 2:\n",
        "  print(\"Suspeita\")\n",
        "elif 3 <= positivas <= 4:\n",
        "  print(\"Cumplice\")\n",
        "elif positivas == 5:\n",
        "  print(\"Bandindinho\")\n",
        "else:\n",
        "  print(\"Inocente\")\n",
        "\n"
      ],
      "metadata": {
        "id": "WZBCpuHiJ7SB"
      },
      "execution_count": null,
      "outputs": []
    },
    {
      "cell_type": "code",
      "source": [
        "#17\n",
        "p1= float(input(\"Digite o valor do produto: \"))\n",
        "p2= float(input(\"Digite o valor do produto: \"))\n",
        "p3= float(input(\"Digite o valor do produto: \"))\n",
        "\n",
        "if p1<= p2 and p1 <= p3:\n",
        " print(\"Opte pelo primeiro\")\n",
        "elif p2 <= p1 and p2 <= p3:\n",
        " print(\"Opte pelo segundo\")\n",
        "else:\n",
        "  print(\"Opte pelo terceiro\")"
      ],
      "metadata": {
        "colab": {
          "base_uri": "https://localhost:8080/"
        },
        "id": "EeqUQYM4J-5G",
        "outputId": "b1f4231f-5a06-4b38-c9ed-b458da912bcf"
      },
      "execution_count": null,
      "outputs": [
        {
          "output_type": "stream",
          "name": "stdout",
          "text": [
            "Digite o valor do produto: 300\n",
            "Digite o valor do produto: 2550\n",
            "Digite o valor do produto: 175\n",
            "Opte pelo terceiro\n"
          ]
        }
      ]
    },
    {
      "cell_type": "markdown",
      "source": [
        "programa Loop\n",
        "\n",
        "var\n",
        "x,r,cont:inteiro\n",
        "\n",
        "inicio  \n",
        "     para cont 1 até 4\n",
        "      leia (X)\n",
        "      r = x*12\n",
        "       escreva (r)\n",
        "       fim para\n",
        "fim       "
      ],
      "metadata": {
        "id": "bomGRJF4ZxP6"
      }
    },
    {
      "cell_type": "code",
      "source": [
        "# Função para calcular o reajuste salarial\n",
        "def calcular_reajuste(salario):\n",
        "    if salario <= 280:\n",
        "        percentual_aumento = 20\n",
        "    elif salario <= 700:\n",
        "        percentual_aumento = 15\n",
        "    elif salario <= 1500:\n",
        "        percentual_aumento = 10\n",
        "    else:\n",
        "        percentual_aumento = 5\n",
        "\n",
        "    aumento = (percentual_aumento / 100) * salario\n",
        "    novo_salario = salario + aumento\n",
        "\n",
        "    return percentual_aumento, aumento, novo_salario\n",
        "\n",
        "\n",
        "# Função principal\n",
        "def main():\n",
        "    # Solicitar o salário atual do colaborador\n",
        "    salario_atual = float(input(\"Digite o salário atual do colaborador: R$ \"))\n",
        "\n",
        "    # Calcular o reajuste\n",
        "    percentual, valor_aumento, novo_salario = calcular_reajuste(salario_atual)\n",
        "\n",
        "    # Exibir os resultados\n",
        "    print(f\"Salário antes do reajuste: R$ {salario_atual:.2f}\")\n",
        "    print(f\"Percentual de aumento aplicado: {percentual}%\")\n",
        "    print(f\"Valor do aumento: R$ {valor_aumento:.2f}\")\n",
        "    print(f\"Novo salário: R$ {novo_salario:.2f}\")\n",
        "\n",
        "\n",
        "# Chamar a função principal\n",
        "if __name__ == \"__main__\":\n",
        "    main()\n"
      ],
      "metadata": {
        "colab": {
          "base_uri": "https://localhost:8080/"
        },
        "id": "DO96lcEOypQg",
        "outputId": "8de0f3ad-48b8-468e-d5ef-215d1674bce6"
      },
      "execution_count": null,
      "outputs": [
        {
          "output_type": "stream",
          "name": "stdout",
          "text": [
            "Digite o salário atual do colaborador: R$ 3500\n",
            "Salário antes do reajuste: R$ 3500.00\n",
            "Percentual de aumento aplicado: 5%\n",
            "Valor do aumento: R$ 175.00\n",
            "Novo salário: R$ 3675.00\n"
          ]
        }
      ]
    },
    {
      "cell_type": "code",
      "source": [
        "salário = float(input(\"Digite o salário atual:\"))\n",
        "p_aumento = float(input(\"Digite a porcentagem de aumento:\"))\n",
        "aumento = salário * p_aumento / 100\n",
        "novo_salário = salário + aumento\n",
        "print(\"Um aumento de %5.2f %% em um salário de R$ %7.2f\" % (p_aumento, salário))\n",
        "print(\"é igual a um aumento de R$ %7.2f\" % aumento)\n",
        "print(\"Resultando em um novo salário de R$ %7.2f\" % novo_salário)"
      ],
      "metadata": {
        "colab": {
          "base_uri": "https://localhost:8080/"
        },
        "id": "_A_Dyl7a0jj4",
        "outputId": "8afc8180-683b-48b3-c01a-6bf4612310de"
      },
      "execution_count": null,
      "outputs": [
        {
          "output_type": "stream",
          "name": "stdout",
          "text": [
            "Digite o salário atual:2160\n",
            "Digite a porcentagem de aumento:20\n",
            "Um aumento de 20.00 % em um salário de R$ 2160.00\n",
            "é igual a um aumento de R$  432.00\n",
            "Resultando em um novo salário de R$ 2592.00\n"
          ]
        }
      ]
    },
    {
      "cell_type": "code",
      "source": [],
      "metadata": {
        "id": "zf-yrwudYu0e"
      },
      "execution_count": null,
      "outputs": []
    }
  ]
}